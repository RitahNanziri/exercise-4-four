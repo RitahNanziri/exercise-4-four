{
 "cells": [
  {
   "cell_type": "code",
   "execution_count": 2,
   "id": "35bb9770",
   "metadata": {},
   "outputs": [],
   "source": [
    "import numpy as np"
   ]
  },
  {
   "cell_type": "code",
   "execution_count": 13,
   "id": "98596762",
   "metadata": {},
   "outputs": [],
   "source": [
    "import pandas as pd"
   ]
  },
  {
   "cell_type": "code",
   "execution_count": 44,
   "id": "7038f5ed",
   "metadata": {},
   "outputs": [
    {
     "name": "stdout",
     "output_type": "stream",
     "text": [
      "    S/N                      Name  Age  Height  Weight\n",
      "0     1            Adokorac Nancy   20  177.80      74\n",
      "1     2   Amutuhaire Faith Ahabwe   27  157.50      47\n",
      "2     3     KWAGALA JOANNA VICTOR   21  210.82      54\n",
      "3     4              mahoro cathy   23  187.96      30\n",
      "4     5  Mbabazi Hawa Bint Edrisa   19  175.25      59\n",
      "5     6       Nakanjako josephine   24  175.25      65\n",
      "6     7            Nanteza Dorcus   21  157.48      69\n",
      "7     8             Mbabazi Angel   19  167.64      57\n",
      "8     9            Namara Racheal   19  154.94      55\n",
      "9    10       Lwamulungi Sheillah   22  162.56      78\n",
      "10   11           Nakawuka Sandra   25  175.25      60\n",
      "11   12   Achola Gloria Fortunate   27  172.72      80\n",
      "12   13             Nagawa Esther   21  187.96      58\n",
      "13   14           wanjiku hananny   19  165.10      50\n",
      "14   15            babirye Sandra   21  175.25      50\n",
      "15   16          nakagga shanitah   21  175.25      50\n",
      "16   17    Wembabazi Vivian Ritah   20  160.02      49\n",
      "17   18   Nanziri Ritah Namayanja   23  162.56      70\n",
      "18   19            Nasejje Mariam   20  101.60      62\n",
      "19   20  Namukose Jolline Edriana   20  162.56      55\n",
      "20   21      Agatha Faith Anyango   27   93.98      55\n",
      "21   22              Kirabo Sarah   23  165.10      60\n",
      "22   23          Nansalire Anitah   21   63.50      45\n",
      "23   24             Nalugo gladys   19  101.60      70\n",
      "24   25            Namakula Allen   20  170.18      55\n",
      "25   26           Tukahirwa emily   22  175.26      67\n",
      "26   27            Shamirah Ahmed   21  137.16      67\n",
      "27   28          Ameso lmmaculate   23  165.10      64\n",
      "28   29                Ayoo Teddy   20  157.48      50\n",
      "29   30                Biira Mary   30  104.14      65\n",
      "30   31        Aloyo Brenda Ojera   23  170.18      52\n",
      "31   32        Ayebale Immaculate   24  162.56      50\n"
     ]
    }
   ],
   "source": [
    "data=pd.read_excel(r\"c:\\Users\\lenovo yoga 11e\\Desktop\\BIOO DATA.xlsx\")\n",
    "print(data)"
   ]
  },
  {
   "cell_type": "code",
   "execution_count": 38,
   "id": "160b3afc",
   "metadata": {},
   "outputs": [
    {
     "name": "stdout",
     "output_type": "stream",
     "text": [
      "22.03125\n"
     ]
    }
   ],
   "source": [
    "# students_age\n",
    "#mean_of_students_age\n",
    "students_mean_age=data[\"Age\"].mean()\n",
    "print(students_mean_age)"
   ]
  },
  {
   "cell_type": "code",
   "execution_count": 26,
   "id": "5005941b",
   "metadata": {},
   "outputs": [
    {
     "name": "stdout",
     "output_type": "stream",
     "text": [
      "2.7648061823220904\n"
     ]
    }
   ],
   "source": [
    "students_std_Age=data[\"Age\"].std()\n",
    "print(students_std_Age)"
   ]
  },
  {
   "cell_type": "code",
   "execution_count": 28,
   "id": "82a6fb9b",
   "metadata": {},
   "outputs": [
    {
     "name": "stdout",
     "output_type": "stream",
     "text": [
      "7.644153225806452\n"
     ]
    }
   ],
   "source": [
    "students_var_Age=data[\"Age\"].var()\n",
    "print(students_var_Age)"
   ]
  },
  {
   "cell_type": "code",
   "execution_count": 47,
   "id": "bf8de342",
   "metadata": {},
   "outputs": [
    {
     "name": "stdout",
     "output_type": "stream",
     "text": [
      "58.5\n"
     ]
    }
   ],
   "source": [
    "# Weight\n",
    "#mean_of_students_Weight\n",
    "students_mean_Weight=data[\"Weight\"].mean()\n",
    "print(students_mean_Weight)"
   ]
  },
  {
   "cell_type": "code",
   "execution_count": 49,
   "id": "20d64d3e",
   "metadata": {},
   "outputs": [
    {
     "name": "stdout",
     "output_type": "stream",
     "text": [
      "110.51612903225806\n"
     ]
    }
   ],
   "source": [
    "students_var_Weight=data[\"Weight\"].var()\n",
    "print(students_var_Weight)"
   ]
  },
  {
   "cell_type": "code",
   "execution_count": 51,
   "id": "3b97b17c",
   "metadata": {},
   "outputs": [
    {
     "name": "stdout",
     "output_type": "stream",
     "text": [
      "10.512665172650467\n"
     ]
    }
   ],
   "source": [
    "students_std_Weight=data[\"Weight\"].std()\n",
    "print(students_std_Weight)"
   ]
  },
  {
   "cell_type": "code",
   "execution_count": 53,
   "id": "cf6f7661",
   "metadata": {},
   "outputs": [
    {
     "name": "stdout",
     "output_type": "stream",
     "text": [
      "157.24093750000003\n"
     ]
    }
   ],
   "source": [
    "#Height\n",
    "students_mean_Height=data[\"Height\"].mean()\n",
    "print(students_mean_Height)"
   ]
  },
  {
   "cell_type": "code",
   "execution_count": 55,
   "id": "9bde76ba",
   "metadata": {},
   "outputs": [
    {
     "name": "stdout",
     "output_type": "stream",
     "text": [
      "978.2376023185485\n"
     ]
    }
   ],
   "source": [
    "students_var_Height=data[\"Height\"].var()\n",
    "print(students_var_Height)"
   ]
  },
  {
   "cell_type": "code",
   "execution_count": 56,
   "id": "a3fc9381",
   "metadata": {},
   "outputs": [
    {
     "name": "stdout",
     "output_type": "stream",
     "text": [
      "31.276790153699412\n"
     ]
    }
   ],
   "source": [
    "students_std_Height=data[\"Height\"].std()\n",
    "print(students_std_Height)"
   ]
  },
  {
   "cell_type": "code",
   "execution_count": null,
   "id": "17c40b9f",
   "metadata": {},
   "outputs": [],
   "source": []
  }
 ],
 "metadata": {
  "kernelspec": {
   "display_name": "Python 3 (ipykernel)",
   "language": "python",
   "name": "python3"
  },
  "language_info": {
   "codemirror_mode": {
    "name": "ipython",
    "version": 3
   },
   "file_extension": ".py",
   "mimetype": "text/x-python",
   "name": "python",
   "nbconvert_exporter": "python",
   "pygments_lexer": "ipython3",
   "version": "3.11.4"
  }
 },
 "nbformat": 4,
 "nbformat_minor": 5
}
